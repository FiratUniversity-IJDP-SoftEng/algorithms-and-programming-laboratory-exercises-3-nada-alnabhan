{
 "cells": [
  {
   "cell_type": "code",
   "execution_count": 2,
   "id": "b96daa47-3b6b-4ebb-987b-7565aa4eddd2",
   "metadata": {},
   "outputs": [
    {
     "name": "stdout",
     "output_type": "stream",
     "text": [
      "True\n",
      "False\n"
     ]
    }
   ],
   "source": [
    "def is_prime(n):\n",
    "    if n <= 1:\n",
    "        return False\n",
    "    for i in range(2, int(n**0.5) + 1):\n",
    "        if n % i == 0:\n",
    "            return False\n",
    "    return True\n",
    "print(is_prime(11)) \n",
    "print(is_prime(15))  \n"
   ]
  },
  {
   "cell_type": "code",
   "execution_count": 3,
   "id": "521dbbe8-8c97-4745-ad2c-d16d32bb8685",
   "metadata": {},
   "outputs": [
    {
     "name": "stdout",
     "output_type": "stream",
     "text": [
      "6\n",
      "25\n"
     ]
    }
   ],
   "source": [
    "def gcd(a, b):\n",
    "    while b != 0:\n",
    "        a, b = b, a % b\n",
    "    return a\n",
    "print(gcd(48, 18))  \n",
    "print(gcd(100, 25))  \n"
   ]
  },
  {
   "cell_type": "code",
   "execution_count": 6,
   "id": "a89f987d-be1d-4359-b9cd-0a4e2e6b0196",
   "metadata": {},
   "outputs": [
    {
     "name": "stdout",
     "output_type": "stream",
     "text": [
      "6\n",
      "3\n"
     ]
    }
   ],
   "source": [
    "def count_vowels(s):\n",
    "    vowels = \"aeiou\"\n",
    "    count = 0\n",
    "    for char in s:\n",
    "        if char in vowels:\n",
    "            count += 1\n",
    "    return count\n",
    "print(count_vowels(\"intermediate\")) \n",
    "print(count_vowels(\"algorithm\"))  \n"
   ]
  },
  {
   "cell_type": "code",
   "execution_count": 8,
   "id": "5ad4afde-8057-4695-9efc-8aa62e0a4a57",
   "metadata": {},
   "outputs": [
    {
     "name": "stdout",
     "output_type": "stream",
     "text": [
      "[1, 2, 3, 4, 5, 6]\n",
      "[-3, -1, 0, 4, 7, 10]\n"
     ]
    }
   ],
   "source": [
    "def merge_sorted_lists(list1, list2):\n",
    "    result = []\n",
    "    i, j = 0, 0\n",
    "    while i < len(list1) and j < len(list2):\n",
    "        if list1[i] < list2[j]:\n",
    "            result.append(list1[i])\n",
    "            i += 1\n",
    "        else:\n",
    "            result.append(list2[j])\n",
    "            j += 1\n",
    "    result.extend(list1[i:])\n",
    "    result.extend(list2[j:])\n",
    "    \n",
    "    return result\n",
    "print(merge_sorted_lists([1, 3, 5], [2, 4, 6])) \n",
    "print(merge_sorted_lists([-3, 0, 7], [-1, 4, 10])) \n"
   ]
  },
  {
   "cell_type": "code",
   "execution_count": null,
   "id": "ff2b2f77-d083-456b-ade3-fb07f98e4148",
   "metadata": {},
   "outputs": [],
   "source": [
    "def binary_search(lst, target):\n",
    "    left, right = 0, len(lst) - 1\n",
    "    while left <= right:\n",
    "        mid = (left + right) // 2\n",
    "        if lst[mid] == target:\n",
    "            return mid\n",
    "        elif lst[mid] < target:\n",
    "            left = mid + 1\n",
    "        else:\n",
    "            right = mid - 1\n",
    "    return -1\n",
    "print(binary_search([1, 3, 5, 7, 9, 11], 7)) \n",
    "print(binary_search([2, 4, 6, 8, 10], 5))  \n"
   ]
  }
 ],
 "metadata": {
  "kernelspec": {
   "display_name": "Python 3 (ipykernel)",
   "language": "python",
   "name": "python3"
  },
  "language_info": {
   "codemirror_mode": {
    "name": "ipython",
    "version": 3
   },
   "file_extension": ".py",
   "mimetype": "text/x-python",
   "name": "python",
   "nbconvert_exporter": "python",
   "pygments_lexer": "ipython3",
   "version": "3.13.2"
  }
 },
 "nbformat": 4,
 "nbformat_minor": 5
}
